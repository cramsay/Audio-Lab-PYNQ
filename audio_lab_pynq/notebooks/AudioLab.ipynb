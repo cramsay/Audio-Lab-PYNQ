{
 "cells": [
  {
   "cell_type": "markdown",
   "metadata": {},
   "source": [
    "# Audio Lab for PYNQ\n",
    "\n",
    "## Import the overlay"
   ]
  },
  {
   "cell_type": "code",
   "execution_count": null,
   "metadata": {},
   "outputs": [],
   "source": [
    "import audio_lab_pynq as aud\n",
    "ol = aud.AudioLabOverlay()"
   ]
  },
  {
   "cell_type": "markdown",
   "metadata": {},
   "source": [
    "## Play with the ADAU1761 CODEC\n",
    "\n",
    "We expose a Python-based driver for the ADAU1761 audio CODEC, with named registers. Have a look at the format of each register [here](https://www.analog.com/media/en/technical-documentation/data-sheets/ADAU1761.pdf) and play with some of the settings at run-time."
   ]
  },
  {
   "cell_type": "code",
   "execution_count": null,
   "metadata": {},
   "outputs": [],
   "source": [
    "ol.codec.R30_PLAYBACK_HEADPHONE_RIGHT_VOLUME_CONTROL = 0xE7"
   ]
  },
  {
   "cell_type": "markdown",
   "metadata": {},
   "source": [
    "## Configurable routing\n",
    "\n",
    "We've littered this design with AXI-Stream switches meaning that we can, in real-time, swap between different audio sources, effects, and sinks.\n",
    "\n",
    "So far there are two of each:\n",
    "\n",
    "  * _Sources_: Line-in jack or DMA\n",
    "  * _Effects_: Passthrough or low pass filter ([Clash](clash-lang.org))\n",
    "  * _Sinks_: Headphone jack or DMA\n",
    "  \n",
    "Have a play with these. Just now you can only pick a single path through these switches, but the hardware should support multiple(?). Maybe a special DSL would be nice here."
   ]
  },
  {
   "cell_type": "code",
   "execution_count": null,
   "metadata": {},
   "outputs": [],
   "source": [
    "ol.route(\n",
    "    aud.XbarSource.line_in,\n",
    "    aud.XbarEffect.passthrough,\n",
    "    aud.XbarSink.dma\n",
    ")"
   ]
  },
  {
   "cell_type": "markdown",
   "metadata": {},
   "source": [
    "## Using DMA sinks/sources\n",
    "\n",
    "You can use recorded data as a source, or record data as a sink. Make sure you update the `.route` accordingly.\n",
    "\n",
    "First, make a physically contiguous buffer."
   ]
  },
  {
   "cell_type": "code",
   "execution_count": null,
   "metadata": {},
   "outputs": [],
   "source": [
    "from pynq import Xlnk\n",
    "import numpy as np\n",
    "xlnk = Xlnk()\n",
    "\n",
    "dma_array = xlnk.cma_array(shape=(48000, 2), dtype=np.int32)"
   ]
  },
  {
   "cell_type": "markdown",
   "metadata": {},
   "source": [
    "Now we could use it as a source..."
   ]
  },
  {
   "cell_type": "code",
   "execution_count": null,
   "metadata": {},
   "outputs": [],
   "source": [
    "ol.axi_dma_0.sendchannel.transfer(dma_array)\n",
    "ol.axi_dma_0.sendchannel.wait()"
   ]
  },
  {
   "cell_type": "markdown",
   "metadata": {},
   "source": [
    "Or a sink."
   ]
  },
  {
   "cell_type": "code",
   "execution_count": null,
   "metadata": {},
   "outputs": [],
   "source": [
    "ol.axi_dma_0.recvchannel.transfer(dma_array)\n",
    "ol.axi_dma_0.recvchannel.wait()"
   ]
  },
  {
   "cell_type": "markdown",
   "metadata": {},
   "source": [
    "## Plotting waveforms\n",
    "\n",
    "We can use something like plotly express to get nice visualisations of any captured signals... perhaps to do some analysis of the effects we're applying."
   ]
  },
  {
   "cell_type": "code",
   "execution_count": null,
   "metadata": {},
   "outputs": [],
   "source": [
    "import plotly.express as px\n",
    "import pandas as pd\n",
    "\n",
    "fs = 48000\n",
    "n  = 48000\n",
    "dataset = pd.DataFrame({\n",
    "    'time' : np.array(range(n))/fs,\n",
    "    'left' : dma_array[:, 0],\n",
    "    'right': dma_array[:, 1]\n",
    "})\n",
    "\n",
    "# Filter zero samples at end of buffer\n",
    "dataset = dataset[\n",
    "    (dataset['left']!=0)&\n",
    "    (dataset['right']!=0)\n",
    "]\n",
    "\n",
    "# Plot\n",
    "df_melt = dataset.melt(id_vars='time', value_vars=['left', 'right'])\n",
    "px.line(df_melt, x='time' , y='value' , color='variable')"
   ]
  }
 ],
 "metadata": {
  "kernelspec": {
   "display_name": "Python 3",
   "language": "python",
   "name": "python3"
  },
  "language_info": {
   "codemirror_mode": {
    "name": "ipython",
    "version": 3
   },
   "file_extension": ".py",
   "mimetype": "text/x-python",
   "name": "python",
   "nbconvert_exporter": "python",
   "pygments_lexer": "ipython3",
   "version": "3.6.5"
  }
 },
 "nbformat": 4,
 "nbformat_minor": 4
}
